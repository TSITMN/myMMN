{
 "cells": [
  {
   "cell_type": "code",
   "execution_count": 2,
   "metadata": {},
   "outputs": [
    {
     "name": "stdout",
     "output_type": "stream",
     "text": [
      "/mnt/workspace/MMN\n",
      "data_loader.py\t loss.py\t      README.md\t\ttest.py\n",
      "data_manager.py  model.py\t      requirements.txt\ttrain.ipynb\n",
      "Datasets\t pre_process_sysu.py  requirements.yml\ttrain.py\n",
      "eval_metrics.py  __pycache__\t      resnet.py\t\tutils.py\n",
      "log\t\t random_erasing.py    save_model\n"
     ]
    }
   ],
   "source": [
    "!pwd\n",
    "!ls"
   ]
  },
  {
   "cell_type": "code",
   "execution_count": 4,
   "metadata": {},
   "outputs": [
    {
     "name": "stdout",
     "output_type": "stream",
     "text": [
      "tensor([[1, 1, 2, 1, 3, 1],\n",
      "        [1, 1, 2, 1, 3, 1],\n",
      "        [1, 1, 2, 1, 3, 1],\n",
      "        [1, 1, 2, 1, 3, 1],\n",
      "        [1, 1, 2, 1, 3, 1],\n",
      "        [1, 1, 2, 1, 3, 1]])\n",
      "tensor([[ True,  True, False,  True, False,  True],\n",
      "        [ True,  True, False,  True, False,  True],\n",
      "        [False, False,  True, False, False, False],\n",
      "        [ True,  True, False,  True, False,  True],\n",
      "        [False, False, False, False,  True, False],\n",
      "        [ True,  True, False,  True, False,  True]])\n"
     ]
    }
   ],
   "source": [
    "import torch\n",
    "\n",
    "# 假设的targets数组\n",
    "targets = [1, 1, 2, 1, 3, 1]\n",
    "batch_size = len(targets)\n",
    "\n",
    "# 将targets数组转换为tensor\n",
    "targets_tensor = torch.tensor(targets)\n",
    "\n",
    "# 使用expand生成一个batch_size x batch_size的矩阵\n",
    "mask = targets_tensor.expand(batch_size, batch_size).eq(targets_tensor.expand(batch_size, batch_size).t())\n",
    "\n",
    "\n",
    "print(targets_tensor.expand(batch_size, batch_size))\n",
    "# 打印mask矩阵\n",
    "print(mask)"
   ]
  }
 ],
 "metadata": {
  "kernelspec": {
   "display_name": "base",
   "language": "python",
   "name": "python3"
  },
  "language_info": {
   "codemirror_mode": {
    "name": "ipython",
    "version": 3
   },
   "file_extension": ".py",
   "mimetype": "text/x-python",
   "name": "python",
   "nbconvert_exporter": "python",
   "pygments_lexer": "ipython3",
   "version": "3.10.14"
  }
 },
 "nbformat": 4,
 "nbformat_minor": 4
}
